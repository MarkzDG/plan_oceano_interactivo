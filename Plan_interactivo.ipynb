{
 "cells": [
  {
   "cell_type": "code",
   "execution_count": 1,
   "metadata": {
    "scrolled": true
   },
   "outputs": [
    {
     "name": "stdout",
     "output_type": "stream",
     "text": [
      "Requirement already satisfied: networkx in c:\\users\\portables\\anaconda3\\lib\\site-packages (2.4)\n",
      "Requirement already satisfied: decorator>=4.3.0 in c:\\users\\portables\\anaconda3\\lib\\site-packages (from networkx) (4.4.1)\n"
     ]
    }
   ],
   "source": [
    "!pip install networkx"
   ]
  },
  {
   "cell_type": "code",
   "execution_count": 1,
   "metadata": {
    "scrolled": false
   },
   "outputs": [],
   "source": [
    "import json\n",
    "from pyvis.network import Network"
   ]
  },
  {
   "cell_type": "code",
   "execution_count": 9,
   "metadata": {},
   "outputs": [],
   "source": [
    "def get_data(file_path):\n",
    "    with open(file_path, 'r') as json_file:\n",
    "        data = json.load(json_file)\n",
    "        return data['nodes'], data['edges']\n",
    "\n",
    "\n",
    "def map_data(nodes, edges, buttons=False):\n",
    "    g = Network(height='600px', width='100%', directed=False, notebook=False, neighborhood_highlight=True, select_menu=False,\n",
    "        filter_menu=True, bgcolor='#ffffff', font_color=\"black\", heading='Plan de Estudios: Oceanografía')\n",
    "\n",
    "    # Agregar opciones al gráfico\n",
    "    options = {\n",
    "        \"nodes\": {\n",
    "            \"shape\": \"box\"\n",
    "        },\n",
    "        \"interaction\": {\n",
    "            \"hover\": True\n",
    "        },\n",
    "        \"physics\": {\n",
    "            \"enabled\": False,\n",
    "            \"hierarchicalRepulsion\": {\n",
    "                \"nodeDistance\": 90\n",
    "            },\n",
    "            \"stabilization\": {\n",
    "                \"iterations\": 30,\n",
    "                \"fit\": True\n",
    "            }\n",
    "        },\n",
    "        \"layout\": {\n",
    "            \"hierarchical\": {\n",
    "                \"enabled\": True,\n",
    "                \"parentCentralization\": False,\n",
    "                \"blockShifting\": False,\n",
    "                \"edgeMinimization\": False,\n",
    "                \"direction\": \"LR\"\n",
    "            }\n",
    "        },\n",
    "        \"edges\": {\n",
    "            \"hoverWidth\": 0,\n",
    "            \"arrowStrikethrough\": False,\n",
    "            \"arrows\": {\n",
    "                \"to\": {\n",
    "                    \"enabled\": True,\n",
    "                    \"scaleFactor\": 0.6,\n",
    "                    \"type\": \"arrow\"\n",
    "                }\n",
    "            },\n",
    "            \"color\": {\n",
    "                \"inherit\": \"from\",\n",
    "                \"opacity\": 0.1\n",
    "            }\n",
    "        }\n",
    "    }\n",
    "    g.set_options(json.dumps(options))  # Convertir a formato JSON y aplicar las opciones al gráfico\n",
    "\n",
    "    if buttons:\n",
    "        g.width = \"65%\"\n",
    "\n",
    "    for node in nodes:\n",
    "        g.add_node(node['id'], label=node['label'], group=node['group'], title=node['title'], level=node['level'], color=node['color'], shape=node['shape'])\n",
    "\n",
    "    for edge in edges:\n",
    "        g.add_edge(edge['to'], edge['from'], title=edge['title'], color=edge['color'], width=edge.get('width', 1))\n",
    "\n",
    "    g.show(\"plan_interactivo.html\", notebook=False)"
   ]
  },
  {
   "cell_type": "markdown",
   "metadata": {},
   "source": [
    "## Pensar en alguna manera en la que se puedan elegir que optativas seguir y no colocar todas así se ve más amigable"
   ]
  },
  {
   "cell_type": "code",
   "execution_count": 10,
   "metadata": {
    "scrolled": true
   },
   "outputs": [
    {
     "name": "stdout",
     "output_type": "stream",
     "text": [
      "plan_interactivo.html\n"
     ]
    }
   ],
   "source": [
    "# Uso con el archivo 'materias_oceano.json'\n",
    "file_path = './json_files/materias_oceano.json'\n",
    "nodes, edges = get_data(file_path)\n",
    "map_data(nodes, edges)"
   ]
  }
 ],
 "metadata": {
  "kernelspec": {
   "display_name": "Python 3",
   "language": "python",
   "name": "python3"
  },
  "language_info": {
   "codemirror_mode": {
    "name": "ipython",
    "version": 3
   },
   "file_extension": ".py",
   "mimetype": "text/x-python",
   "name": "python",
   "nbconvert_exporter": "python",
   "pygments_lexer": "ipython3",
   "version": "3.7.6"
  }
 },
 "nbformat": 4,
 "nbformat_minor": 5
}
